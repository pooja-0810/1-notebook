{
 "cells": [
  {
   "cell_type": "markdown",
   "id": "149fb8ea-37ec-4b8c-a88a-6a41aca149cb",
   "metadata": {},
   "source": [
    "# Data Science Tools and Ecosystem\r\n"
   ]
  },
  {
   "cell_type": "markdown",
   "id": "db8f4d60-ce2e-4036-bee4-57988efc0ef5",
   "metadata": {},
   "source": [
    "In this notebook, Data Science Tools and Ecosystem are summarized."
   ]
  },
  {
   "cell_type": "markdown",
   "id": "fa8c7b3b-2694-4c2b-a6e2-3f098b6097fd",
   "metadata": {},
   "source": [
    "Some of the popular languages that Data Scientists use are:\n",
    "\n",
    "1. Python\n",
    "2. R\n",
    "3. SQL\n",
    "4. Julia\n",
    "5. Scala\n"
   ]
  },
  {
   "cell_type": "markdown",
   "id": "5d5b314a-3536-4c20-afdd-89f8206421e4",
   "metadata": {},
   "source": [
    "Some of the commonly used libraries used by Data Scientists include:\n",
    "\n",
    "1. NumPy\n",
    "2. pandas\n",
    "3. Matplotlib\n",
    "4. scikit-learn\n",
    "5. TensorFlow\n"
   ]
  },
  {
   "cell_type": "markdown",
   "id": "aa1164d7-f64d-4303-83cc-95f7c315b7f2",
   "metadata": {},
   "source": [
    "| Data Science Tools |\n",
    "|--------------------|\n",
    "| Jupyter Notebook   |\n",
    "| RStudio            |\n",
    "| Apache Zeppelin    |\n"
   ]
  },
  {
   "cell_type": "markdown",
   "id": "b011b470-46ec-4a8d-8816-319798d15844",
   "metadata": {},
   "source": [
    "# Arithmetic Expression Examples\n",
    "\n",
    "### Below are a few examples of evaluating arithmetic expressions in Python\n"
   ]
  },
  {
   "cell_type": "code",
   "execution_count": 13,
   "id": "26812d4b-0361-46fd-8ef6-49d5857ac4c1",
   "metadata": {},
   "outputs": [
    {
     "data": {
      "text/plain": [
       "17"
      ]
     },
     "execution_count": 13,
     "metadata": {},
     "output_type": "execute_result"
    }
   ],
   "source": [
    "# This is a simple arithmetic expression to multiply then add integers.\n",
    "result = (3 * 4) + 5\n",
    "result\n"
   ]
  },
  {
   "cell_type": "code",
   "execution_count": 15,
   "id": "77fff1fc-e73a-49b7-8ebd-273664d77156",
   "metadata": {},
   "outputs": [
    {
     "data": {
      "text/plain": [
       "3.3333333333333335"
      ]
     },
     "execution_count": 15,
     "metadata": {},
     "output_type": "execute_result"
    }
   ],
   "source": [
    "# This will convert 200 minutes to hours by dividing by 60.\n",
    "minutes = 200\n",
    "hours = minutes / 60\n",
    "hours\n"
   ]
  },
  {
   "cell_type": "markdown",
   "id": "e2333e67-65a5-43ea-b87a-605f4b5150af",
   "metadata": {},
   "source": [
    "**Objectives:**\n",
    "\n",
    "- List popular languages for Data Science\n",
    "- Identify commonly used libraries in Data Science\n",
    "- Introduce and evaluate basic arithmetic expressions in Python\n",
    "- Convert minutes to hours using Python\n",
    "- Understand the use of development environment tools in data science\n"
   ]
  },
  {
   "cell_type": "markdown",
   "id": "cf415f02-82a0-4614-bf25-cec0cd3f2848",
   "metadata": {},
   "source": [
    "## Author\n",
    "\n",
    "Pooja Ganesh Agre\n"
   ]
  },
  {
   "cell_type": "code",
   "execution_count": null,
   "id": "f5ad682b-366e-4a42-9f4e-2bb7daafc861",
   "metadata": {},
   "outputs": [],
   "source": []
  }
 ],
 "metadata": {
  "kernelspec": {
   "display_name": "Python 3 (ipykernel)",
   "language": "python",
   "name": "python3"
  },
  "language_info": {
   "codemirror_mode": {
    "name": "ipython",
    "version": 3
   },
   "file_extension": ".py",
   "mimetype": "text/x-python",
   "name": "python",
   "nbconvert_exporter": "python",
   "pygments_lexer": "ipython3",
   "version": "3.12.4"
  }
 },
 "nbformat": 4,
 "nbformat_minor": 5
}
